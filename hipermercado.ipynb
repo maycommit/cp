{
  "cells": [
    {
      "cell_type": "markdown",
      "metadata": {
        "id": "view-in-github",
        "colab_type": "text"
      },
      "source": [
        "<a href=\"https://colab.research.google.com/github/maycommit/cp/blob/main/hipermercado.ipynb\" target=\"_parent\"><img src=\"https://colab.research.google.com/assets/colab-badge.svg\" alt=\"Open In Colab\"/></a>"
      ]
    },
    {
      "cell_type": "markdown",
      "metadata": {
        "id": "tVIsf7n4P-YP"
      },
      "source": [
        "# Hipermercado\n",
        "\n",
        "Pedrinho está em um hipermercado e, ao pensar nos problemas de programação dinamica da maratonas de programação, ele pergunta se conseguirá fazer sua compra e pagar o valor exato com as moedas que possui em sua mochila.\n",
        "\n",
        "Por ser um bom maratonista de programação, ele sabe distinguir alguns problemas clássicos de PD, por exemplo, o problema do troco e o da mochila.\n",
        "\n",
        "Ele acredita que você também! Então, faça um programa que resolva a perginta do Pedrinho.\n",
        "\n",
        "## Entrada\n",
        "A entrada possui duas linhas. A primeira tem 2 inteiros V e N, sendo (1 <= V <= 10^5) e (1 <= N <= 10^3), que representam, respectivamente, o valor da compra e da quantidade de moedas em sua mochila. A próxima linha terá N inteiros, com o valor (1 <= Ni <= 10^5) de cada moeda.\n",
        "\n",
        "## Saída \n",
        "\n",
        "A saída será um caractere 'S' se for possível pagar o valor exato da compra com as moedas que possui, ou 'N' caso contrário.\n",
        "\n",
        "| Exemplo de entrada | Exemplo de saída |\n",
        "| --- | ----------- |\n",
        "| 21 4<br>50 5 10 1 | N |\n",
        "| 2 8<br>1 1 5 5 5 5 5 5 | S |"
      ]
    },
    {
      "cell_type": "markdown",
      "metadata": {
        "id": "vv_MQCr5P-YT"
      },
      "source": [
        "# Solução"
      ]
    },
    {
      "cell_type": "code",
      "execution_count": null,
      "metadata": {
        "id": "F0vuOazJP-YT"
      },
      "outputs": [],
      "source": [
        "v, n = 21, 4\n",
        "n_list = [50, 5, 10, 1]"
      ]
    },
    {
      "cell_type": "code",
      "execution_count": null,
      "metadata": {
        "id": "NFHHtkvGP-YV"
      },
      "outputs": [],
      "source": [
        "v, n = 2, 8\n",
        "n_list = [1, 1, 5, 5, 5, 5, 5, 5]"
      ]
    },
    {
      "cell_type": "markdown",
      "metadata": {
        "id": "KCSReHGcP-YV"
      },
      "source": [
        "Uma solução simples para esse problema seria um implementação utilizando força bruta. Onde cada item da lista de moeda seria somado com os proximos items da mesma lista. Caso `s == v` o fluxo de execução é interrompido e retornado o resultado para casos positivos."
      ]
    },
    {
      "cell_type": "code",
      "execution_count": null,
      "metadata": {
        "id": "FFTpq6THP-YV",
        "outputId": "a1a6493b-c40c-4d7e-98b6-e2b7c4d5313e"
      },
      "outputs": [
        {
          "name": "stdout",
          "output_type": "stream",
          "text": [
            "S\n"
          ]
        }
      ],
      "source": [
        "res = 'N'\n",
        "for i in range(n):\n",
        "    s = 0\n",
        "    for j in range(i, n):\n",
        "        s += n_list[j]\n",
        "\n",
        "        if s == v:\n",
        "            res = 'S'\n",
        "            break\n",
        "\n",
        "print(res)"
      ]
    },
    {
      "cell_type": "markdown",
      "metadata": {
        "id": "5kMHAAIxP-YW"
      },
      "source": [
        "> Complexidade de tempo: O(n^2)\n",
        "> \n",
        "> Complexidade de espaço: O(1)"
      ]
    },
    {
      "cell_type": "markdown",
      "metadata": {
        "id": "qkHe9DJtP-YX"
      },
      "source": [
        "Outra abordagem seria criar uma estrutura para guardar os itens ja percorridos e para cada iteração analizar se existe a diferenca entre numero corrente e `v` na estrutura criada. Resultando em uma implementação linear para o tempo e espaço utilizado."
      ]
    },
    {
      "cell_type": "code",
      "execution_count": null,
      "metadata": {
        "id": "ISwyygXfP-YX",
        "outputId": "da9028ba-87f6-44f4-d8ef-739431cda570"
      },
      "outputs": [
        {
          "name": "stdout",
          "output_type": "stream",
          "text": [
            "S\n"
          ]
        }
      ],
      "source": [
        "res = 'N'\n",
        "d = set()\n",
        "for i in range(n):\n",
        "    diff = v - n_list[i]\n",
        "    if diff in d:\n",
        "        res = 'S'\n",
        "        break\n",
        "\n",
        "    d.add(n_list[i])\n",
        "\n",
        "print(res)"
      ]
    },
    {
      "cell_type": "markdown",
      "metadata": {
        "id": "zZ2uxz5VP-YY"
      },
      "source": [
        "> Complexidade de tempo: O(n)\n",
        "> \n",
        "> Complexidade de espaço: O(n)"
      ]
    }
  ],
  "metadata": {
    "kernelspec": {
      "display_name": "Python 3.10.4 64-bit",
      "language": "python",
      "name": "python3"
    },
    "language_info": {
      "codemirror_mode": {
        "name": "ipython",
        "version": 3
      },
      "file_extension": ".py",
      "mimetype": "text/x-python",
      "name": "python",
      "nbconvert_exporter": "python",
      "pygments_lexer": "ipython3",
      "version": "3.10.4"
    },
    "orig_nbformat": 4,
    "vscode": {
      "interpreter": {
        "hash": "4f946df053fbf2b937619d3c5458e7af74262f9a954d8797ba0b27400bcafe06"
      }
    },
    "colab": {
      "name": "Cópia de hipermercado.ipynb",
      "provenance": [],
      "include_colab_link": true
    }
  },
  "nbformat": 4,
  "nbformat_minor": 0
}